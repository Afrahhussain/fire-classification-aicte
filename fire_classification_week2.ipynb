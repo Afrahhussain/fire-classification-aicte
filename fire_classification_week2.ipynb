{
 "cells": [
  {
   "cell_type": "markdown",
   "id": "ced641c5",
   "metadata": {},
   "source": [
    "# Fire Classification Week 1 Notebook\n",
    "\n",
    "This notebook analyzes MODIS fire data from **2021–2023** for India.  \n",
    "We perform:\n",
    "- Dataset loading & merging\n",
    "- Basic cleaning (duplicates)\n",
    "- Exploratory Data Analysis (EDA)\n",
    "- Visualization of fire types and confidence values\n"
   ]
  },
  {
   "cell_type": "code",
   "execution_count": null,
   "id": "6b428c1d",
   "metadata": {},
   "outputs": [],
   "source": []
  },
  {
   "cell_type": "code",
   "execution_count": null,
   "id": "498c490b",
   "metadata": {},
   "outputs": [],
   "source": [
    "import numpy as np\n",
    "import pandas as pd\n",
    "import matplotlib.pyplot as plt\n",
    "import seaborn as sns\n",
    "\n",
    "# Show plots inline\n",
    "%matplotlib inline"
   ]
  },
  {
   "cell_type": "code",
   "execution_count": null,
   "id": "aa52e373",
   "metadata": {},
   "outputs": [],
   "source": [
    "# Load MODIS fire data\n",
    "df1 = pd.read_csv('modis_2021_India.csv')\n",
    "df2 = pd.read_csv('modis_2022_India.csv')\n",
    "df3 = pd.read_csv('modis_2023_India.csv')\n",
    "\n",
    "# Merge datasets\n",
    "df = pd.concat([df1, df2, df3], ignore_index=True)\n",
    "df.drop_duplicates(inplace=True)\n",
    "\n",
    "print('Data Shape:', df.shape)\n",
    "df.head()"
   ]
  },
  {
   "cell_type": "code",
   "execution_count": null,
   "id": "b73e4cf3",
   "metadata": {},
   "outputs": [],
   "source": [
    "# Check dataset info\n",
    "df.info()\n",
    "\n",
    "# Describe numerical columns\n",
    "df.describe()\n",
    "\n",
    "# Fire type counts\n",
    "df['type'].value_counts()"
   ]
  },
  {
   "cell_type": "code",
   "execution_count": null,
   "id": "b4010d83",
   "metadata": {},
   "outputs": [],
   "source": [
    "# Count plot of fire types\n",
    "plt.figure(figsize=(6,4))\n",
    "sns.countplot(x='type', data=df)\n",
    "plt.title('Fire Type Distribution')\n",
    "plt.show()\n",
    "\n",
    "# Histogram of confidence\n",
    "plt.figure(figsize=(6,4))\n",
    "sns.histplot(df['confidence'], bins=20, kde=True)\n",
    "plt.title('Confidence Distribution')\n",
    "plt.show()"
   ]
  },
  {
   "cell_type": "markdown",
   "id": "518e292c",
   "metadata": {},
   "source": [
    "# Observations\n",
    "\n",
    "- The dataset has **271217 rows and 15 columns**.\n",
    "- Fire type distribution: {0: 257625, 2: 13550, 3: 42}.\n",
    "- No missing values found in the dataset.\n",
    "- `type 0` (vegetation fires) is dominant, while types 2 and 3 are rare.\n",
    "- Confidence values range from 0 to 100 and have peaks around 50+.\n"
   ]
  },
  {
   "cell_type": "code",
   "execution_count": null,
   "id": "687274b0",
   "metadata": {},
   "outputs": [],
   "source": [
    "# Week 2 - Fire Type Classification (Till SMOTE)\n",
    "\n",
    "import pandas as pd\n",
    "import numpy as np\n",
    "import matplotlib.pyplot as plt\n",
    "import seaborn as sns\n",
    "\n",
    "from sklearn.preprocessing import LabelEncoder, StandardScaler\n",
    "from sklearn.model_selection import train_test_split\n",
    "from sklearn.ensemble import RandomForestClassifier\n",
    "from sklearn.metrics import classification_report, confusion_matrix, accuracy_score\n",
    "from imblearn.over_sampling import SMOTE\n",
    "\n",
    "# Load Dataset\n",
    "df = pd.read_csv(\"https://raw.githubusercontent.com/AdiPersonalWorks/Random/master/Fire.csv\")\n",
    "df.head()\n",
    "\n",
    "# Basic Info\n",
    "df.info()\n",
    "df.isnull().sum()\n",
    "\n",
    "# Remove duplicates and drop unnecessary columns\n",
    "df.drop_duplicates(inplace=True)\n",
    "df.drop(columns=[\"Unnamed: 0\", \"country\", \"state\", \"month\", \"day\", \"year\"], inplace=True)\n",
    "df.head()\n",
    "\n",
    "# Encode Target\n",
    "le = LabelEncoder()\n",
    "df['fire_type'] = le.fit_transform(df['fire_type'])\n",
    "df['fire_type'].value_counts()\n",
    "\n",
    "# Correlation Heatmap\n",
    "plt.figure(figsize=(10,8))\n",
    "sns.heatmap(df.corr(), annot=True, cmap='coolwarm')\n",
    "plt.title(\"Correlation Heatmap\")\n",
    "plt.show()\n",
    "\n",
    "# Features and Target\n",
    "X = df.drop(\"fire_type\", axis=1)\n",
    "y = df[\"fire_type\"]\n",
    "\n",
    "# Split Dataset\n",
    "X_train, X_test, y_train, y_test = train_test_split(X, y, test_size=0.25, random_state=42)\n",
    "\n",
    "# Scaling\n",
    "scaler = StandardScaler()\n",
    "X_train_scaled = scaler.fit_transform(X_train)\n",
    "X_test_scaled = scaler.transform(X_test)\n",
    "\n",
    "# SMOTE (Balancing the Data)\n",
    "smote = SMOTE(random_state=42)\n",
    "X_train_resampled, y_train_resampled = smote.fit_resample(X_train_scaled, y_train)\n",
    "\n",
    "# Confirm class distribution after SMOTE\n",
    "print(y_train_resampled.value_counts())\n"
   ]
  }
 ],
 "metadata": {
  "language_info": {
   "name": "python"
  }
 },
 "nbformat": 4,
 "nbformat_minor": 5
}
