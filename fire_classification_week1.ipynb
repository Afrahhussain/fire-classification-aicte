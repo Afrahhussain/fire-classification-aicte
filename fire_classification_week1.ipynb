{
 "cells": [
  {
   "cell_type": "markdown",
   "id": "ced641c5",
   "metadata": {},
   "source": [
    "# Fire Classification Week 1 Notebook\n",
    "\n",
    "This notebook analyzes MODIS fire data from **2021–2023** for India.  \n",
    "We perform:\n",
    "- Dataset loading & merging\n",
    "- Basic cleaning (duplicates)\n",
    "- Exploratory Data Analysis (EDA)\n",
    "- Visualization of fire types and confidence values\n"
   ]
  },
  {
   "cell_type": "code",
   "execution_count": null,
   "id": "498c490b",
   "metadata": {},
   "outputs": [],
   "source": [
    "import numpy as np\n",
    "import pandas as pd\n",
    "import matplotlib.pyplot as plt\n",
    "import seaborn as sns\n",
    "\n",
    "# Show plots inline\n",
    "%matplotlib inline"
   ]
  },
  {
   "cell_type": "code",
   "execution_count": null,
   "id": "aa52e373",
   "metadata": {},
   "outputs": [],
   "source": [
    "# Load MODIS fire data\n",
    "df1 = pd.read_csv('modis_2021_India.csv')\n",
    "df2 = pd.read_csv('modis_2022_India.csv')\n",
    "df3 = pd.read_csv('modis_2023_India.csv')\n",
    "\n",
    "# Merge datasets\n",
    "df = pd.concat([df1, df2, df3], ignore_index=True)\n",
    "df.drop_duplicates(inplace=True)\n",
    "\n",
    "print('Data Shape:', df.shape)\n",
    "df.head()"
   ]
  },
  {
   "cell_type": "code",
   "execution_count": null,
   "id": "b73e4cf3",
   "metadata": {},
   "outputs": [],
   "source": [
    "# Check dataset info\n",
    "df.info()\n",
    "\n",
    "# Describe numerical columns\n",
    "df.describe()\n",
    "\n",
    "# Fire type counts\n",
    "df['type'].value_counts()"
   ]
  },
  {
   "cell_type": "code",
   "execution_count": null,
   "id": "b4010d83",
   "metadata": {},
   "outputs": [],
   "source": [
    "# Count plot of fire types\n",
    "plt.figure(figsize=(6,4))\n",
    "sns.countplot(x='type', data=df)\n",
    "plt.title('Fire Type Distribution')\n",
    "plt.show()\n",
    "\n",
    "# Histogram of confidence\n",
    "plt.figure(figsize=(6,4))\n",
    "sns.histplot(df['confidence'], bins=20, kde=True)\n",
    "plt.title('Confidence Distribution')\n",
    "plt.show()"
   ]
  },
  {
   "cell_type": "markdown",
   "id": "518e292c",
   "metadata": {},
   "source": [
    "# Observations\n",
    "\n",
    "- The dataset has **271217 rows and 15 columns**.\n",
    "- Fire type distribution: {0: 257625, 2: 13550, 3: 42}.\n",
    "- No missing values found in the dataset.\n",
    "- `type 0` (vegetation fires) is dominant, while types 2 and 3 are rare.\n",
    "- Confidence values range from 0 to 100 and have peaks around 50+.\n"
   ]
  }
 ],
 "metadata": {},
 "nbformat": 4,
 "nbformat_minor": 5
}